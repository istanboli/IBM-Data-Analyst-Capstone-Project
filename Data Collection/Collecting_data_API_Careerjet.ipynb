{
 "cells": [
  {
   "cell_type": "markdown",
   "id": "1a0bf419-03a1-4332-8047-a6206fadc07c",
   "metadata": {
    "tags": []
   },
   "source": [
    " # **Collecting job data using APIs**"
   ]
  },
  {
   "cell_type": "markdown",
   "id": "f8c335a0-6ef5-4807-825b-82e8cd9856f2",
   "metadata": {},
   "source": [
    "## Objectives\n",
    "\n",
    "* Collect job data from GitHub Jobs API\n",
    "* Store the collected data into an excel spreadsheet.\n",
    "\n"
   ]
  },
  {
   "cell_type": "markdown",
   "id": "738a10b8-3308-4baf-96f3-6a845732896f",
   "metadata": {},
   "source": [
    "## Warm-Up Exercise\n",
    "\n",
    "Before the attempt of the actual lab, here is a fully solved warmup exercise that will help you to learn how to access an API.\n",
    "\n",
    "Using an API, let us find out who currently are on the International Space Station (ISS).\n",
    "The API at http://api.open-notify.org/astros.json gives us the information of astronauts currently on ISS in json format.\n",
    "You can read more about this API at http://open-notify.org/Open-Notify-API/People-In-Space/\n"
   ]
  },
  {
   "cell_type": "code",
   "execution_count": 3,
   "id": "02d44a05-e50b-457d-923b-498a0882fe5a",
   "metadata": {},
   "outputs": [
    {
     "data": {
      "text/plain": [
       "{'people': [{'name': 'Mark Vande Hei', 'craft': 'ISS'},\n",
       "  {'name': 'Oleg Novitskiy', 'craft': 'ISS'},\n",
       "  {'name': 'Pyotr Dubrov', 'craft': 'ISS'},\n",
       "  {'name': 'Thomas Pesquet', 'craft': 'ISS'},\n",
       "  {'name': 'Megan McArthur', 'craft': 'ISS'},\n",
       "  {'name': 'Shane Kimbrough', 'craft': 'ISS'},\n",
       "  {'name': 'Akihiko Hoshide', 'craft': 'ISS'},\n",
       "  {'name': 'Nie Haisheng', 'craft': 'Tiangong'},\n",
       "  {'name': 'Liu Boming', 'craft': 'Tiangong'},\n",
       "  {'name': 'Tang Hongbo', 'craft': 'Tiangong'}],\n",
       " 'number': 10,\n",
       " 'message': 'success'}"
      ]
     },
     "execution_count": 3,
     "metadata": {},
     "output_type": "execute_result"
    }
   ],
   "source": [
    "#Call the API and check that everything is ok\n",
    "import requests\n",
    "\n",
    "api_url = \"http://api.open-notify.org/astros.json\" \n",
    "\n",
    "response = requests.get(api_url)\n",
    "\n",
    "if response.ok:\n",
    "    data = response.json()\n",
    "\n",
    "data"
   ]
  },
  {
   "cell_type": "code",
   "execution_count": 5,
   "id": "7d7b951f-6516-4be7-8a18-d5acce220a4b",
   "metadata": {},
   "outputs": [
    {
     "data": {
      "text/plain": [
       "10"
      ]
     },
     "execution_count": 5,
     "metadata": {},
     "output_type": "execute_result"
    }
   ],
   "source": [
    "#Extract the number of astronauts\n",
    "data[\"number\"] "
   ]
  },
  {
   "cell_type": "code",
   "execution_count": 6,
   "id": "7210dae3-0188-4496-b30c-7574754cfeed",
   "metadata": {},
   "outputs": [
    {
     "name": "stdout",
     "output_type": "stream",
     "text": [
      "Mark Vande Hei\n",
      "Oleg Novitskiy\n",
      "Pyotr Dubrov\n",
      "Thomas Pesquet\n",
      "Megan McArthur\n",
      "Shane Kimbrough\n",
      "Akihiko Hoshide\n",
      "Nie Haisheng\n",
      "Liu Boming\n",
      "Tang Hongbo\n"
     ]
    }
   ],
   "source": [
    "#Extract the name of the astronauts\n",
    "astronauts = data.get(\"people\")\n",
    "for astro in astronauts:\n",
    "    print(astro[\"name\"])"
   ]
  },
  {
   "cell_type": "markdown",
   "id": "252e72c2-4ce8-4fb7-b526-ee2e76b3ed69",
   "metadata": {},
   "source": [
    "<br></br>"
   ]
  },
  {
   "cell_type": "markdown",
   "id": "af89cc32-9dfd-405b-abe3-4482668bb2f0",
   "metadata": {},
   "source": [
    "## Collecting jobs data using Careerjet APIs"
   ]
  },
  {
   "cell_type": "markdown",
   "id": "cb9d9d38-284d-4f36-bd4a-f3dba57450c7",
   "metadata": {},
   "source": [
    "At first, the API that was expected to be used was GitHub Jobs, the web page has been deprecated, so it was decided to look for alternatives, choosing the CareerJet API for collecting the job data."
   ]
  },
  {
   "cell_type": "markdown",
   "id": "47b6ee3b-efc2-4e12-aba8-03b3f3509a39",
   "metadata": {},
   "source": [
    "For more information about the CareerJet API, check the documentation: https://pypi.org/project/careerjet-api/"
   ]
  },
  {
   "cell_type": "markdown",
   "id": "a12ccbd1-716e-4d27-9784-7045e010a962",
   "metadata": {},
   "source": [
    "### Objective: Determine the number of jobs currently open for various technologies\n",
    "\n",
    "Collect the number of job postings in Mexico City for the following languages using the API:\n",
    "\n",
    "* C++\n",
    "* C#\n",
    "* Java\n",
    "* JavaScript\n",
    "* Python\n",
    "* Scala\n",
    "* Oracle\n",
    "* SQL Server\n",
    "* MySQL Server\n",
    "* PostgreSQL\n",
    "* MongoDB\n",
    "* Excel\n",
    "\n"
   ]
  },
  {
   "cell_type": "markdown",
   "id": "f76fe599-0f74-4345-9f45-9167f7f23f8b",
   "metadata": {},
   "source": [
    "Write a function to get the number of jobs per technology in the year 2021."
   ]
  },
  {
   "cell_type": "code",
   "execution_count": 1,
   "id": "a8f99247-56cb-4344-a786-d690273b6530",
   "metadata": {},
   "outputs": [],
   "source": [
    "import careerjet_api #Import the libraries\n",
    "import pandas as pd"
   ]
  },
  {
   "cell_type": "code",
   "execution_count": 2,
   "id": "06938034-3e12-4f85-bb91-8d25176f0098",
   "metadata": {},
   "outputs": [],
   "source": [
    "def get_number_jobs(technology):\n",
    "    cj = careerjet_api.CareerjetAPIClient(\"es_MX\")\n",
    "    result_json = cj.search({\n",
    "    \"keywords\" : f\"{technology}\",\n",
    "    \"location\" : \"Ciudad de México\",\n",
    "    \"sort\" : \"date\",\n",
    "    \"affid\" : \"a3150e0699e2de8a7acbd5123e366838\",\n",
    "    \"user_ip\" : \"192.168.1.65\",\n",
    "    \"user_agent\": \"Mozilla/5.0 (Windows NT 10.0; Win64; x64; rv:89.0) Gecko/20100101 Firefox/89.0\",\n",
    "    'url'         : 'http://www.example.com/jobsearch?q=python&l=Tabasco'})\n",
    "    \n",
    "    job_count = result_json[\"hits\"]\n",
    "    \n",
    "    return technology, job_count\n",
    "\n",
    "\n"
   ]
  },
  {
   "cell_type": "code",
   "execution_count": 3,
   "id": "de060581-466a-4dbd-bfff-6131059c4916",
   "metadata": {},
   "outputs": [
    {
     "data": {
      "text/plain": [
       "('Python', 771)"
      ]
     },
     "execution_count": 3,
     "metadata": {},
     "output_type": "execute_result"
    }
   ],
   "source": [
    "get_number_jobs(\"Python\")"
   ]
  },
  {
   "cell_type": "markdown",
   "id": "a4811416-d6d6-4cea-83a3-ccb561cc8b3e",
   "metadata": {},
   "source": [
    "Get the number of jobs for every technology"
   ]
  },
  {
   "cell_type": "code",
   "execution_count": 8,
   "id": "f910fb6c-0949-4e54-830d-b075c6acee05",
   "metadata": {},
   "outputs": [],
   "source": [
    "technologies = [\n",
    "    \"C#\",\n",
    "    \"C++\",\n",
    "    \"Java\",\n",
    "    \"JavaScript\",\n",
    "    \"Python\",\n",
    "    \"Scala\",\n",
    "    \"Oracle\",\n",
    "    \"SQL\",\n",
    "    \"MySQL\",\n",
    "    \"PostgreSQL\",\n",
    "    \"MongoDB\",\n",
    "    \"Excel\"\n",
    "]\n",
    "\n",
    "tec_dict = {}\n",
    "counts = []\n",
    "TECHS = []"
   ]
  },
  {
   "cell_type": "code",
   "execution_count": 9,
   "id": "57bb799a-ffa9-49c4-856f-7e158952e50b",
   "metadata": {},
   "outputs": [],
   "source": [
    "\n",
    "for tech in technologies:\n",
    "    tecnologia, conteo = get_number_jobs(tech)\n",
    "    counts.append(conteo)\n",
    "    TECHS.append(tecnologia)\n",
    "    tec_dict[\"Technologies\"] = TECHS\n",
    "    tec_dict[\"Number_jobs\"] = counts"
   ]
  },
  {
   "cell_type": "code",
   "execution_count": 10,
   "id": "3064111b-00d4-4033-875d-d2688d2c4937",
   "metadata": {},
   "outputs": [
    {
     "data": {
      "text/plain": [
       "{'Technologies': ['C#',\n",
       "  'C++',\n",
       "  'Java',\n",
       "  'JavaScript',\n",
       "  'Python',\n",
       "  'Scala',\n",
       "  'Oracle',\n",
       "  'SQL',\n",
       "  'MySQL',\n",
       "  'PostgreSQL',\n",
       "  'MongoDB',\n",
       "  'Excel'],\n",
       " 'Number_jobs': [4800,\n",
       "  4800,\n",
       "  1378,\n",
       "  894,\n",
       "  771,\n",
       "  61,\n",
       "  749,\n",
       "  1692,\n",
       "  380,\n",
       "  156,\n",
       "  162,\n",
       "  4537]}"
      ]
     },
     "execution_count": 10,
     "metadata": {},
     "output_type": "execute_result"
    }
   ],
   "source": [
    "tec_dict"
   ]
  },
  {
   "cell_type": "markdown",
   "id": "ba42a2aa-4767-4b70-824e-c8d26952ec83",
   "metadata": {},
   "source": [
    "Create a Dataframe to save your data"
   ]
  },
  {
   "cell_type": "code",
   "execution_count": 11,
   "id": "c25a59c2-2774-40f9-8608-0f9fb396c88c",
   "metadata": {},
   "outputs": [
    {
     "data": {
      "text/html": [
       "<div>\n",
       "<style scoped>\n",
       "    .dataframe tbody tr th:only-of-type {\n",
       "        vertical-align: middle;\n",
       "    }\n",
       "\n",
       "    .dataframe tbody tr th {\n",
       "        vertical-align: top;\n",
       "    }\n",
       "\n",
       "    .dataframe thead th {\n",
       "        text-align: right;\n",
       "    }\n",
       "</style>\n",
       "<table border=\"1\" class=\"dataframe\">\n",
       "  <thead>\n",
       "    <tr style=\"text-align: right;\">\n",
       "      <th></th>\n",
       "      <th>Technologies</th>\n",
       "      <th>Number_jobs</th>\n",
       "    </tr>\n",
       "  </thead>\n",
       "  <tbody>\n",
       "    <tr>\n",
       "      <th>0</th>\n",
       "      <td>C#</td>\n",
       "      <td>4800</td>\n",
       "    </tr>\n",
       "    <tr>\n",
       "      <th>1</th>\n",
       "      <td>C++</td>\n",
       "      <td>4800</td>\n",
       "    </tr>\n",
       "    <tr>\n",
       "      <th>2</th>\n",
       "      <td>Java</td>\n",
       "      <td>1378</td>\n",
       "    </tr>\n",
       "    <tr>\n",
       "      <th>3</th>\n",
       "      <td>JavaScript</td>\n",
       "      <td>894</td>\n",
       "    </tr>\n",
       "    <tr>\n",
       "      <th>4</th>\n",
       "      <td>Python</td>\n",
       "      <td>771</td>\n",
       "    </tr>\n",
       "    <tr>\n",
       "      <th>5</th>\n",
       "      <td>Scala</td>\n",
       "      <td>61</td>\n",
       "    </tr>\n",
       "    <tr>\n",
       "      <th>6</th>\n",
       "      <td>Oracle</td>\n",
       "      <td>749</td>\n",
       "    </tr>\n",
       "    <tr>\n",
       "      <th>7</th>\n",
       "      <td>SQL</td>\n",
       "      <td>1692</td>\n",
       "    </tr>\n",
       "    <tr>\n",
       "      <th>8</th>\n",
       "      <td>MySQL</td>\n",
       "      <td>380</td>\n",
       "    </tr>\n",
       "    <tr>\n",
       "      <th>9</th>\n",
       "      <td>PostgreSQL</td>\n",
       "      <td>156</td>\n",
       "    </tr>\n",
       "    <tr>\n",
       "      <th>10</th>\n",
       "      <td>MongoDB</td>\n",
       "      <td>162</td>\n",
       "    </tr>\n",
       "    <tr>\n",
       "      <th>11</th>\n",
       "      <td>Excel</td>\n",
       "      <td>4537</td>\n",
       "    </tr>\n",
       "  </tbody>\n",
       "</table>\n",
       "</div>"
      ],
      "text/plain": [
       "   Technologies  Number_jobs\n",
       "0            C#         4800\n",
       "1           C++         4800\n",
       "2          Java         1378\n",
       "3    JavaScript          894\n",
       "4        Python          771\n",
       "5         Scala           61\n",
       "6        Oracle          749\n",
       "7           SQL         1692\n",
       "8         MySQL          380\n",
       "9    PostgreSQL          156\n",
       "10      MongoDB          162\n",
       "11        Excel         4537"
      ]
     },
     "execution_count": 11,
     "metadata": {},
     "output_type": "execute_result"
    }
   ],
   "source": [
    "df_jobs = pd.DataFrame(tec_dict)\n",
    "\n",
    "df_jobs"
   ]
  },
  {
   "cell_type": "markdown",
   "id": "649ad00e-ed35-4768-901a-e30bf3f13a37",
   "metadata": {},
   "source": [
    "Save your DataFrame in an Excel file"
   ]
  },
  {
   "cell_type": "code",
   "execution_count": 12,
   "id": "becd5046-4447-481f-b6cf-c1d6f799b479",
   "metadata": {},
   "outputs": [],
   "source": [
    "df_jobs.to_excel(\"Careerjet_posting.xlsx\")"
   ]
  }
 ],
 "metadata": {
  "kernelspec": {
   "display_name": "Python 3",
   "language": "python",
   "name": "python3"
  },
  "language_info": {
   "codemirror_mode": {
    "name": "ipython",
    "version": 3
   },
   "file_extension": ".py",
   "mimetype": "text/x-python",
   "name": "python",
   "nbconvert_exporter": "python",
   "pygments_lexer": "ipython3",
   "version": "3.9.1"
  }
 },
 "nbformat": 4,
 "nbformat_minor": 5
}
