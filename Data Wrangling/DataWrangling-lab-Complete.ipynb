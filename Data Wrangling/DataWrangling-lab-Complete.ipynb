{
 "cells": [
  {
   "cell_type": "markdown",
   "metadata": {},
   "source": [
    "<center>\n",
    "    <img src=\"https://gitlab.com/ibm/skills-network/courses/placeholder101/-/raw/master/labs/module%201/images/IDSNlogo.png\" width=\"300\" alt=\"cognitiveclass.ai logo\"  />\n",
    "</center>\n"
   ]
  },
  {
   "cell_type": "markdown",
   "metadata": {},
   "source": [
    "# **Data Wrangling Lab**\n"
   ]
  },
  {
   "cell_type": "markdown",
   "metadata": {},
   "source": [
    "Estimated time needed: **45 to 60** minutes\n"
   ]
  },
  {
   "cell_type": "markdown",
   "metadata": {},
   "source": [
    "In this assignment you will be performing data wrangling.\n"
   ]
  },
  {
   "cell_type": "markdown",
   "metadata": {},
   "source": [
    "## Objectives\n"
   ]
  },
  {
   "cell_type": "markdown",
   "metadata": {},
   "source": [
    "In this lab you will perform the following:\n"
   ]
  },
  {
   "cell_type": "markdown",
   "metadata": {},
   "source": [
    "*   Identify duplicate values in the dataset.\n",
    "\n",
    "*   Remove duplicate values from the dataset.\n",
    "\n",
    "*   Identify missing values in the dataset.\n",
    "\n",
    "*   Impute the missing values in the dataset.\n",
    "\n",
    "*   Normalize data in the dataset.\n"
   ]
  },
  {
   "cell_type": "markdown",
   "metadata": {},
   "source": [
    "<hr>\n"
   ]
  },
  {
   "cell_type": "markdown",
   "metadata": {},
   "source": [
    "## Hands on Lab\n"
   ]
  },
  {
   "cell_type": "markdown",
   "metadata": {},
   "source": [
    "Import pandas module.\n"
   ]
  },
  {
   "cell_type": "code",
   "execution_count": 2,
   "metadata": {},
   "outputs": [],
   "source": [
    "import pandas as pd\n",
    "import numpy as np"
   ]
  },
  {
   "cell_type": "markdown",
   "metadata": {},
   "source": [
    "Load the dataset into a dataframe.\n"
   ]
  },
  {
   "cell_type": "code",
   "execution_count": 3,
   "metadata": {},
   "outputs": [],
   "source": [
    "df = pd.read_csv(\"https://cf-courses-data.s3.us.cloud-object-storage.appdomain.cloud/IBM-DA0321EN-SkillsNetwork/LargeData/m1_survey_data.csv\")"
   ]
  },
  {
   "cell_type": "markdown",
   "metadata": {},
   "source": [
    "## Finding duplicates\n"
   ]
  },
  {
   "cell_type": "markdown",
   "metadata": {},
   "source": [
    "In this section you will identify duplicate values in the dataset.\n"
   ]
  },
  {
   "cell_type": "markdown",
   "metadata": {},
   "source": [
    "Find how many duplicate rows exist in the dataframe.\n"
   ]
  },
  {
   "cell_type": "code",
   "execution_count": 4,
   "metadata": {},
   "outputs": [
    {
     "data": {
      "text/html": [
       "<div>\n",
       "<style scoped>\n",
       "    .dataframe tbody tr th:only-of-type {\n",
       "        vertical-align: middle;\n",
       "    }\n",
       "\n",
       "    .dataframe tbody tr th {\n",
       "        vertical-align: top;\n",
       "    }\n",
       "\n",
       "    .dataframe thead th {\n",
       "        text-align: right;\n",
       "    }\n",
       "</style>\n",
       "<table border=\"1\" class=\"dataframe\">\n",
       "  <thead>\n",
       "    <tr style=\"text-align: right;\">\n",
       "      <th></th>\n",
       "      <th>Respondent</th>\n",
       "      <th>MainBranch</th>\n",
       "      <th>Hobbyist</th>\n",
       "      <th>OpenSourcer</th>\n",
       "      <th>OpenSource</th>\n",
       "      <th>Employment</th>\n",
       "      <th>Country</th>\n",
       "      <th>Student</th>\n",
       "      <th>EdLevel</th>\n",
       "      <th>UndergradMajor</th>\n",
       "      <th>...</th>\n",
       "      <th>WelcomeChange</th>\n",
       "      <th>SONewContent</th>\n",
       "      <th>Age</th>\n",
       "      <th>Gender</th>\n",
       "      <th>Trans</th>\n",
       "      <th>Sexuality</th>\n",
       "      <th>Ethnicity</th>\n",
       "      <th>Dependents</th>\n",
       "      <th>SurveyLength</th>\n",
       "      <th>SurveyEase</th>\n",
       "    </tr>\n",
       "  </thead>\n",
       "  <tbody>\n",
       "    <tr>\n",
       "      <th>1107</th>\n",
       "      <td>2339</td>\n",
       "      <td>I am a developer by profession</td>\n",
       "      <td>Yes</td>\n",
       "      <td>Once a month or more often</td>\n",
       "      <td>OSS is, on average, of HIGHER quality than pro...</td>\n",
       "      <td>Employed full-time</td>\n",
       "      <td>United States</td>\n",
       "      <td>No</td>\n",
       "      <td>Some college/university study without earning ...</td>\n",
       "      <td>Computer science, computer engineering, or sof...</td>\n",
       "      <td>...</td>\n",
       "      <td>Just as welcome now as I felt last year</td>\n",
       "      <td>NaN</td>\n",
       "      <td>24.0</td>\n",
       "      <td>Man</td>\n",
       "      <td>No</td>\n",
       "      <td>Straight / Heterosexual</td>\n",
       "      <td>White or of European descent</td>\n",
       "      <td>No</td>\n",
       "      <td>Appropriate in length</td>\n",
       "      <td>Easy</td>\n",
       "    </tr>\n",
       "    <tr>\n",
       "      <th>1168</th>\n",
       "      <td>2339</td>\n",
       "      <td>I am a developer by profession</td>\n",
       "      <td>Yes</td>\n",
       "      <td>Once a month or more often</td>\n",
       "      <td>OSS is, on average, of HIGHER quality than pro...</td>\n",
       "      <td>Employed full-time</td>\n",
       "      <td>United States</td>\n",
       "      <td>No</td>\n",
       "      <td>Some college/university study without earning ...</td>\n",
       "      <td>Computer science, computer engineering, or sof...</td>\n",
       "      <td>...</td>\n",
       "      <td>Just as welcome now as I felt last year</td>\n",
       "      <td>NaN</td>\n",
       "      <td>24.0</td>\n",
       "      <td>Man</td>\n",
       "      <td>No</td>\n",
       "      <td>Straight / Heterosexual</td>\n",
       "      <td>White or of European descent</td>\n",
       "      <td>No</td>\n",
       "      <td>Appropriate in length</td>\n",
       "      <td>Easy</td>\n",
       "    </tr>\n",
       "    <tr>\n",
       "      <th>1229</th>\n",
       "      <td>2339</td>\n",
       "      <td>I am a developer by profession</td>\n",
       "      <td>Yes</td>\n",
       "      <td>Once a month or more often</td>\n",
       "      <td>OSS is, on average, of HIGHER quality than pro...</td>\n",
       "      <td>Employed full-time</td>\n",
       "      <td>United States</td>\n",
       "      <td>No</td>\n",
       "      <td>Some college/university study without earning ...</td>\n",
       "      <td>Computer science, computer engineering, or sof...</td>\n",
       "      <td>...</td>\n",
       "      <td>Just as welcome now as I felt last year</td>\n",
       "      <td>NaN</td>\n",
       "      <td>24.0</td>\n",
       "      <td>Man</td>\n",
       "      <td>No</td>\n",
       "      <td>Straight / Heterosexual</td>\n",
       "      <td>White or of European descent</td>\n",
       "      <td>No</td>\n",
       "      <td>Appropriate in length</td>\n",
       "      <td>Easy</td>\n",
       "    </tr>\n",
       "  </tbody>\n",
       "</table>\n",
       "<p>3 rows × 85 columns</p>\n",
       "</div>"
      ],
      "text/plain": [
       "      Respondent                      MainBranch Hobbyist  \\\n",
       "1107        2339  I am a developer by profession      Yes   \n",
       "1168        2339  I am a developer by profession      Yes   \n",
       "1229        2339  I am a developer by profession      Yes   \n",
       "\n",
       "                     OpenSourcer  \\\n",
       "1107  Once a month or more often   \n",
       "1168  Once a month or more often   \n",
       "1229  Once a month or more often   \n",
       "\n",
       "                                             OpenSource          Employment  \\\n",
       "1107  OSS is, on average, of HIGHER quality than pro...  Employed full-time   \n",
       "1168  OSS is, on average, of HIGHER quality than pro...  Employed full-time   \n",
       "1229  OSS is, on average, of HIGHER quality than pro...  Employed full-time   \n",
       "\n",
       "            Country Student  \\\n",
       "1107  United States      No   \n",
       "1168  United States      No   \n",
       "1229  United States      No   \n",
       "\n",
       "                                                EdLevel  \\\n",
       "1107  Some college/university study without earning ...   \n",
       "1168  Some college/university study without earning ...   \n",
       "1229  Some college/university study without earning ...   \n",
       "\n",
       "                                         UndergradMajor  ...  \\\n",
       "1107  Computer science, computer engineering, or sof...  ...   \n",
       "1168  Computer science, computer engineering, or sof...  ...   \n",
       "1229  Computer science, computer engineering, or sof...  ...   \n",
       "\n",
       "                                WelcomeChange SONewContent   Age Gender Trans  \\\n",
       "1107  Just as welcome now as I felt last year          NaN  24.0    Man    No   \n",
       "1168  Just as welcome now as I felt last year          NaN  24.0    Man    No   \n",
       "1229  Just as welcome now as I felt last year          NaN  24.0    Man    No   \n",
       "\n",
       "                    Sexuality                     Ethnicity Dependents  \\\n",
       "1107  Straight / Heterosexual  White or of European descent         No   \n",
       "1168  Straight / Heterosexual  White or of European descent         No   \n",
       "1229  Straight / Heterosexual  White or of European descent         No   \n",
       "\n",
       "               SurveyLength SurveyEase  \n",
       "1107  Appropriate in length       Easy  \n",
       "1168  Appropriate in length       Easy  \n",
       "1229  Appropriate in length       Easy  \n",
       "\n",
       "[3 rows x 85 columns]"
      ]
     },
     "execution_count": 4,
     "metadata": {},
     "output_type": "execute_result"
    }
   ],
   "source": [
    "# your code goes here\n",
    "Num_duplicates = df.duplicated(subset= \"Respondent\", keep=\"first\").sum() #Check the number of duplicates\n",
    "\n",
    "duplicates = df.duplicated(subset= \"Respondent\", keep=\"first\") #Find the duplicates\n",
    "\n",
    "df_duplicates = df[duplicates]\n",
    "\n",
    "df[df[\"Respondent\"] == 2339] #Verify one of the duplicate record for security\n",
    "\n",
    "\n",
    "\n"
   ]
  },
  {
   "cell_type": "markdown",
   "metadata": {},
   "source": [
    "## Removing duplicates\n"
   ]
  },
  {
   "cell_type": "markdown",
   "metadata": {},
   "source": [
    "Remove the duplicate rows from the dataframe.\n"
   ]
  },
  {
   "cell_type": "code",
   "execution_count": 5,
   "metadata": {},
   "outputs": [],
   "source": [
    "# your code goes here\n",
    "df.drop_duplicates(subset= \"Respondent\", keep=\"first\", inplace=True )"
   ]
  },
  {
   "cell_type": "markdown",
   "metadata": {},
   "source": [
    "Verify if duplicates were actually dropped.\n"
   ]
  },
  {
   "cell_type": "code",
   "execution_count": 6,
   "metadata": {},
   "outputs": [
    {
     "data": {
      "text/plain": [
       "0"
      ]
     },
     "execution_count": 6,
     "metadata": {},
     "output_type": "execute_result"
    }
   ],
   "source": [
    "# your code goes here\n",
    "df.duplicated(subset= \"Respondent\", keep= \"first\").sum()"
   ]
  },
  {
   "cell_type": "markdown",
   "metadata": {},
   "source": [
    "## Finding Missing values\n"
   ]
  },
  {
   "cell_type": "markdown",
   "metadata": {},
   "source": [
    "Find the missing values for all columns.\n"
   ]
  },
  {
   "cell_type": "code",
   "execution_count": 7,
   "metadata": {},
   "outputs": [
    {
     "data": {
      "text/plain": [
       "{'Respondent': 0,\n",
       " 'MainBranch': 0,\n",
       " 'Hobbyist': 0,\n",
       " 'OpenSourcer': 0,\n",
       " 'OpenSource': 81,\n",
       " 'Employment': 0,\n",
       " 'Country': 0,\n",
       " 'Student': 51,\n",
       " 'EdLevel': 112,\n",
       " 'UndergradMajor': 737,\n",
       " 'EduOther': 164,\n",
       " 'OrgSize': 96,\n",
       " 'DevType': 65,\n",
       " 'YearsCode': 9,\n",
       " 'Age1stCode': 13,\n",
       " 'YearsCodePro': 16,\n",
       " 'CareerSat': 0,\n",
       " 'JobSat': 1,\n",
       " 'MgrIdiot': 493,\n",
       " 'MgrMoney': 497,\n",
       " 'MgrWant': 493,\n",
       " 'JobSeek': 0,\n",
       " 'LastHireDate': 0,\n",
       " 'LastInt': 413,\n",
       " 'FizzBuzz': 37,\n",
       " 'JobFactors': 3,\n",
       " 'ResumeUpdate': 39,\n",
       " 'CurrencySymbol': 0,\n",
       " 'CurrencyDesc': 0,\n",
       " 'CompTotal': 809,\n",
       " 'CompFreq': 206,\n",
       " 'ConvertedComp': 816,\n",
       " 'WorkWeekHrs': 122,\n",
       " 'WorkPlan': 121,\n",
       " 'WorkChallenge': 164,\n",
       " 'WorkRemote': 8,\n",
       " 'WorkLoc': 32,\n",
       " 'ImpSyn': 5,\n",
       " 'CodeRev': 1,\n",
       " 'CodeRevHrs': 2426,\n",
       " 'UnitTests': 29,\n",
       " 'PurchaseHow': 196,\n",
       " 'PurchaseWhat': 38,\n",
       " 'LanguageWorkedWith': 11,\n",
       " 'LanguageDesireNextYear': 134,\n",
       " 'DatabaseWorkedWith': 453,\n",
       " 'DatabaseDesireNextYear': 1042,\n",
       " 'PlatformWorkedWith': 411,\n",
       " 'PlatformDesireNextYear': 544,\n",
       " 'WebFrameWorkedWith': 1393,\n",
       " 'WebFrameDesireNextYear': 1617,\n",
       " 'MiscTechWorkedWith': 2182,\n",
       " 'MiscTechDesireNextYear': 1455,\n",
       " 'DevEnviron': 29,\n",
       " 'OpSys': 34,\n",
       " 'Containers': 82,\n",
       " 'BlockchainOrg': 2322,\n",
       " 'BlockchainIs': 2610,\n",
       " 'BetterLife': 98,\n",
       " 'ITperson': 35,\n",
       " 'OffOn': 38,\n",
       " 'SocialMedia': 293,\n",
       " 'Extraversion': 20,\n",
       " 'ScreenName': 507,\n",
       " 'SOVisit1st': 325,\n",
       " 'SOVisitFreq': 5,\n",
       " 'SOVisitTo': 1,\n",
       " 'SOFindAnswer': 3,\n",
       " 'SOTimeSaved': 50,\n",
       " 'SOHowMuchTime': 1917,\n",
       " 'SOAccount': 1,\n",
       " 'SOPartFreq': 1128,\n",
       " 'SOJobs': 6,\n",
       " 'EntTeams': 5,\n",
       " 'SOComm': 0,\n",
       " 'WelcomeChange': 85,\n",
       " 'SONewContent': 1965,\n",
       " 'Age': 287,\n",
       " 'Gender': 73,\n",
       " 'Trans': 123,\n",
       " 'Sexuality': 542,\n",
       " 'Ethnicity': 675,\n",
       " 'Dependents': 140,\n",
       " 'SurveyLength': 19,\n",
       " 'SurveyEase': 14}"
      ]
     },
     "execution_count": 7,
     "metadata": {},
     "output_type": "execute_result"
    }
   ],
   "source": [
    "# your code goes here\n",
    "df.replace(r\"^\\s*$\", np.NaN, regex=True, inplace=True) # Replace empty fields with NaN\n",
    "\n",
    "missing_values = dict(df.isnull().sum())\n",
    "\n",
    "missing_values"
   ]
  },
  {
   "cell_type": "markdown",
   "metadata": {},
   "source": [
    "Find out how many rows are missing in the column 'WorkLoc'\n"
   ]
  },
  {
   "cell_type": "code",
   "execution_count": 8,
   "metadata": {},
   "outputs": [
    {
     "data": {
      "text/plain": [
       "32"
      ]
     },
     "execution_count": 8,
     "metadata": {},
     "output_type": "execute_result"
    }
   ],
   "source": [
    "# your code goes here\n",
    "df[\"WorkLoc\"].isnull().sum()"
   ]
  },
  {
   "cell_type": "markdown",
   "metadata": {},
   "source": [
    "## Imputing missing values\n"
   ]
  },
  {
   "cell_type": "markdown",
   "metadata": {},
   "source": [
    "Find the  value counts for the column WorkLoc.\n"
   ]
  },
  {
   "cell_type": "code",
   "execution_count": 9,
   "metadata": {},
   "outputs": [
    {
     "data": {
      "text/plain": [
       "Office                                            6806\n",
       "Home                                              3589\n",
       "Other place, such as a coworking space or cafe     971\n",
       "Name: WorkLoc, dtype: int64"
      ]
     },
     "execution_count": 9,
     "metadata": {},
     "output_type": "execute_result"
    }
   ],
   "source": [
    "# your code goes here\n",
    "df[\"WorkLoc\"].value_counts()"
   ]
  },
  {
   "cell_type": "markdown",
   "metadata": {},
   "source": [
    "Identify the value that is most frequent (majority) in the WorkLoc column.\n"
   ]
  },
  {
   "cell_type": "code",
   "execution_count": 10,
   "metadata": {},
   "outputs": [
    {
     "data": {
      "text/plain": [
       "0    Office\n",
       "dtype: object"
      ]
     },
     "execution_count": 10,
     "metadata": {},
     "output_type": "execute_result"
    }
   ],
   "source": [
    "#make a note of the majority value here, for future reference\n",
    "#Office is the most frequent value\n",
    "\n",
    "df[\"WorkLoc\"].mode()\n",
    "\n"
   ]
  },
  {
   "cell_type": "markdown",
   "metadata": {},
   "source": [
    "Impute (replace) all the empty rows in the column WorkLoc with the value that you have identified as majority.\n"
   ]
  },
  {
   "cell_type": "code",
   "execution_count": 11,
   "metadata": {},
   "outputs": [],
   "source": [
    "# your code goes here\n",
    "df[\"WorkLoc\"].fillna(\"Office\", inplace=True)"
   ]
  },
  {
   "cell_type": "markdown",
   "metadata": {},
   "source": [
    "After imputation there should ideally not be any empty rows in the WorkLoc column.\n"
   ]
  },
  {
   "cell_type": "markdown",
   "metadata": {},
   "source": [
    "Verify if imputing was successful.\n"
   ]
  },
  {
   "cell_type": "code",
   "execution_count": 12,
   "metadata": {},
   "outputs": [
    {
     "data": {
      "text/plain": [
       "0"
      ]
     },
     "execution_count": 12,
     "metadata": {},
     "output_type": "execute_result"
    }
   ],
   "source": [
    "# your code goes here\n",
    "df[\"WorkLoc\"].isnull().sum()"
   ]
  },
  {
   "cell_type": "markdown",
   "metadata": {},
   "source": [
    "## Normalizing data\n"
   ]
  },
  {
   "cell_type": "markdown",
   "metadata": {},
   "source": [
    "There are two columns in the dataset that talk about compensation.\n",
    "\n",
    "One is \"CompFreq\". This column shows how often a developer is paid (Yearly, Monthly, Weekly).\n",
    "\n",
    "The other is \"CompTotal\". This column talks about how much the developer is paid per Year, Month, or Week depending upon his/her \"CompFreq\".\n",
    "\n",
    "This makes it difficult to compare the total compensation of the developers.\n",
    "\n",
    "In this section you will create a new column called 'NormalizedAnnualCompensation' which contains the 'Annual Compensation' irrespective of the 'CompFreq'.\n",
    "\n",
    "Once this column is ready, it makes comparison of salaries easy.\n"
   ]
  },
  {
   "cell_type": "markdown",
   "metadata": {},
   "source": [
    "<hr>\n"
   ]
  },
  {
   "cell_type": "markdown",
   "metadata": {},
   "source": [
    "List out the various categories in the column 'CompFreq'\n"
   ]
  },
  {
   "cell_type": "code",
   "execution_count": 18,
   "metadata": {},
   "outputs": [
    {
     "data": {
      "text/plain": [
       "array(['Yearly', 'Monthly', 'Weekly'], dtype=object)"
      ]
     },
     "execution_count": 18,
     "metadata": {},
     "output_type": "execute_result"
    }
   ],
   "source": [
    "# your code goes here\n",
    "df.dropna(subset=[\"CompFreq\"], axis=0, inplace=True)\n",
    "df.dropna(subset=[\"CompTotal\"], axis=0, inplace=True)\n",
    "df.reset_index(drop=True, inplace=True)\n",
    "df[\"CompFreq\"].unique()"
   ]
  },
  {
   "cell_type": "markdown",
   "metadata": {},
   "source": [
    "Create a new column named 'NormalizedAnnualCompensation'. Use the hint given below if needed.\n"
   ]
  },
  {
   "cell_type": "markdown",
   "metadata": {},
   "source": [
    "Double click to see the **Hint**.\n",
    "\n",
    "<!--\n",
    "\n",
    "Use the below logic to arrive at the values for the column NormalizedAnnualCompensation.\n",
    "\n",
    "If the CompFreq is Yearly then use the exising value in CompTotal\n",
    "If the CompFreq is Monthly then multiply the value in CompTotal with 12 (months in an year)\n",
    "If the CompFreq is Weekly then multiply the value in CompTotal with 52 (weeks in an year)\n",
    "\n",
    "-->\n"
   ]
  },
  {
   "cell_type": "code",
   "execution_count": 20,
   "metadata": {},
   "outputs": [
    {
     "data": {
      "text/plain": [
       "0    0.000087\n",
       "1    0.000197\n",
       "2    0.000129\n",
       "3    0.000497\n",
       "4    0.000129\n",
       "Name: NormalizedAnnualCompensation, dtype: float64"
      ]
     },
     "execution_count": 20,
     "metadata": {},
     "output_type": "execute_result"
    }
   ],
   "source": [
    "# your code goes here\n",
    "normalizaded_values = []\n",
    "\n",
    "for index, i in enumerate(df[\"CompFreq\"]):\n",
    "    if i == \"Yearly\":\n",
    "        normalizaded_values.append(df.loc[index, \"CompTotal\"]/df[\"CompTotal\"].max())\n",
    "    elif i == \"Monthly\":\n",
    "        normalizaded_values.append((df.loc[index, \"CompTotal\"]*12)/df[\"CompTotal\"].max())\n",
    "    elif i == \"Weekly\":\n",
    "        normalizaded_values.append((df.loc[index, \"CompTotal\"]*52)/df[\"CompTotal\"].max())\n",
    "\n",
    "df[\"NormalizedAnnualCompensation\"] = normalizaded_values\n",
    "\n",
    "df[\"NormalizedAnnualCompensation\"].head()"
   ]
  },
  {
   "cell_type": "markdown",
   "metadata": {},
   "source": [
    "## Authors\n"
   ]
  },
  {
   "cell_type": "markdown",
   "metadata": {},
   "source": [
    "Ramesh Sannareddy\n"
   ]
  },
  {
   "cell_type": "markdown",
   "metadata": {},
   "source": [
    "### Other Contributors\n"
   ]
  },
  {
   "cell_type": "markdown",
   "metadata": {},
   "source": [
    "Rav Ahuja\n"
   ]
  },
  {
   "cell_type": "markdown",
   "metadata": {},
   "source": [
    "## Change Log\n"
   ]
  },
  {
   "cell_type": "markdown",
   "metadata": {},
   "source": [
    "| Date (YYYY-MM-DD) | Version | Changed By        | Change Description                 |\n",
    "| ----------------- | ------- | ----------------- | ---------------------------------- |\n",
    "| 2020-10-17        | 0.1     | Ramesh Sannareddy | Created initial version of the lab |\n"
   ]
  },
  {
   "cell_type": "markdown",
   "metadata": {},
   "source": [
    "Copyright © 2020 IBM Corporation. This notebook and its source code are released under the terms of the [MIT License](https://cognitiveclass.ai/mit-license?utm_medium=Exinfluencer\\&utm_source=Exinfluencer\\&utm_content=000026UJ\\&utm_term=10006555\\&utm_id=NA-SkillsNetwork-Channel-SkillsNetworkCoursesIBMDA0321ENSkillsNetwork21426264-2021-01-01\\&cm_mmc=Email_Newsletter-\\_-Developer_Ed%2BTech-\\_-WW_WW-\\_-SkillsNetwork-Courses-IBM-DA0321EN-SkillsNetwork-21426264\\&cm_mmca1=000026UJ\\&cm_mmca2=10006555\\&cm_mmca3=M12345678\\&cvosrc=email.Newsletter.M12345678\\&cvo_campaign=000026UJ).\n"
   ]
  }
 ],
 "metadata": {
  "kernelspec": {
   "display_name": "Python 3",
   "language": "python",
   "name": "python3"
  },
  "language_info": {
   "codemirror_mode": {
    "name": "ipython",
    "version": 3
   },
   "file_extension": ".py",
   "mimetype": "text/x-python",
   "name": "python",
   "nbconvert_exporter": "python",
   "pygments_lexer": "ipython3",
   "version": "3.9.1"
  }
 },
 "nbformat": 4,
 "nbformat_minor": 4
}
